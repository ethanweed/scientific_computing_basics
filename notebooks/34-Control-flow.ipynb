{
 "cells": [
  {
   "cell_type": "markdown",
   "metadata": {},
   "source": [
    "# Control flow"
   ]
  },
  {
   "cell_type": "markdown",
   "metadata": {},
   "source": [
    "In this notebook we will look at what is called *control flow*, in a nutshell control flow is how we control a computer program, i.e. when should a program do what. \n",
    "\n",
    "\n",
    "\n",
    "This notebook is inspired by and draw on [Python for Everybody Exploring Data Using Python 3](https://py4e.com/) by Charles R. Severance, and acknowledgment and thanks goes to him and co-authors. This book and [Think python](http://greenteapress.com/wp/think-python-2e/) by Allen B. Downey are good introductions to python and programming more general. \n"
   ]
  },
  {
   "cell_type": "markdown",
   "metadata": {},
   "source": [
    "## Why? \n",
    "\n",
    "The obvious question is why do we want control flow? Why not just have a script/program that starts from the beginning and run to the end? The easy and useless response is that is not how it works. A more appropriate answer is that by controlling the flow of a script we can have much shorter loops, more readable code, and importantly, more flexible code. What all of this means and how to apply it is the aim of this notebook.\n",
    "\n"
   ]
  },
  {
   "cell_type": "markdown",
   "metadata": {},
   "source": [
    "## How\n",
    "\n",
    "There are various options and possibilities when it come to handling control flow and the best option depends on the task at hand. We can group them into:\n",
    "\n",
    "* Boolean expressions\n",
    "* Conditional execution\n",
    "* Loops\n",
    "\n",
    "For each of these groups there are different elements in them. \n",
    "\n",
    "Let us start from the simplest: *Boolean statements*\n"
   ]
  },
  {
   "cell_type": "markdown",
   "metadata": {},
   "source": [
    "# Boolean expressions\n",
    "\n",
    "A boolean expressions is an expressions that evaluates to **TRUE** or **FALSE**. Breaking it down the expression compare two operands and produces a **True** or **False**. For example:\n",
    "\n",
    "```python\n",
    "x = 1\n",
    "y = 2\n",
    "x == y\n",
    "```\n",
    "\n",
    "If ```x``` is equal to ```y``` True will be returned otherwise False. Here ```x``` and ```y``` are the ```==``` are an operator.  Any boolean expression have this structure of two operands compared with an operator.\n",
    "\n",
    "The operator can be one of the following:\n",
    "\n",
    "```python\n",
    "x == y # x is equal to y\n",
    "x != y # x is not equal to y\n",
    "x > y # x is greater than y\n",
    "x < y # x is less than y\n",
    "x >= y # x is greater than or equal to y\n",
    "x <= y # x is less than or equal to y\n",
    "x is y # x is the same as y\n",
    "x is not y # x is not the same as y\n",
    "```\n",
    "\n",
    "So depending on what you want to know the status of the operator needs to be set appropriately."
   ]
  },
  {
   "cell_type": "markdown",
   "metadata": {},
   "source": [
    "### Exercise\n",
    "\n",
    "Below is a minimal example of a boolean statement.\n",
    "\n",
    "Change ```x``` and ```y``` to different values and try different operators. Try to guess what the returned value(s) will be be before executing the code."
   ]
  },
  {
   "cell_type": "code",
   "execution_count": null,
   "metadata": {},
   "outputs": [],
   "source": [
    "# code from above\n",
    "x = ?\n",
    "y = ?\n",
    "x == y"
   ]
  },
  {
   "cell_type": "markdown",
   "metadata": {},
   "source": [
    "# Logical operators\n",
    "\n",
    "There are three *logical operators*: **and**, **or**, and, **not**. They mean the almost same as in English. These logical operators can be used to chain together boolean expressions. We will return to these later when we looking at **loops**.\n"
   ]
  },
  {
   "cell_type": "markdown",
   "metadata": {},
   "source": [
    "# Conditional execution\n",
    "\n",
    "(all the figures are from [Python for Everybody Exploring Data Using Python 3](https://py4e.com/) chapter 3)\n",
    "\n",
    "Conditional execution is way to control a script's behaviour based on whether or not a condition is fulfilled. The most simple is an **if-statement**\n",
    "\n",
    "```python\n",
    "if x > 0 :\n",
    "    print('x is positive')\n",
    "```\n",
    "<img src=\"imgs/if_logic.png\">\n",
    "\n",
    "\n",
    "A more complex conditional execution is the **if-else** statement\n",
    "\n",
    "```python\n",
    "if x%2==0 :\n",
    "    print('x is even')\n",
    "else: \n",
    "    print('x is odd')\n",
    "```\n",
    "\n",
    "<img src=\"imgs/if_else.png\">\n",
    "\n",
    "Conditional execution can also be *chained*, so that several options can be true. The will be tested sequential, i.e. the first will be tested first, then the second etc.\n",
    "\n",
    "```python\n",
    "if x < y:\n",
    "    print('x is less than y')\n",
    "elif x > y:  # elif is short for else-if\n",
    "    print('x is greater than y')\n",
    "else:\n",
    "    print('x and y are equal')\n",
    "```\n",
    "\n",
    "<img src=\"imgs/if_elif.png\">\n",
    "\n",
    "An even more complex structure but often used is to have **nested conditionals**.\n",
    "\n",
    "```python\n",
    "if x == y:\n",
    "    print('x and y are equal')\n",
    "else:\n",
    "    if x < y:\n",
    "        print('x is less than y')\n",
    "    else:\n",
    "        print('x is greater than y')\n",
    "```\n",
    "\n",
    "<img src=\"imgs/nested_conditionals.png\">\n"
   ]
  },
  {
   "cell_type": "markdown",
   "metadata": {},
   "source": [
    "### Exercise\n",
    "\n",
    "In a cell below (use the little \"plus\" above to make a new cell or press ```b```) make some of the different boolean expressions and conditional conditionals. \n",
    "\n",
    "* Try to make the ones from above \n",
    "* Try making your own"
   ]
  },
  {
   "cell_type": "markdown",
   "metadata": {},
   "source": [
    "# Loops aka repeating code\n",
    "\n",
    "Often we have to run the same code a lot of time, e.g. a nested conditional where we want to sort data we have collected. We could of course just write a lot of conditionals. That would, however, make the code very very long and if we need to change something we need to change it all the places, taking a lot of time too. A better option is to use a **loop**. \n",
    "\n",
    "A loop is basically a structure that repeat something a number of times. There are two main types of loops:\n",
    "\n",
    "* While loops\n",
    "* For loops\n",
    "\n",
    "These are in every programming language, the exact syntax is just different. \n",
    "\n",
    "Every loop has the same structure:\n",
    "* Statement to be evaluated\n",
    "* Counter\n",
    "* Code to be executed (code block)\n",
    "\n",
    "Let's unpack this first with the *while loop*.\n",
    "\n",
    "## While loop\n",
    "In this example, we loop until our counter ```a``` is bigger than 7 (that is our statement to evaluate) and want to know if the integer is even or odd from 1 on onwards. To tell us that we have a conditional execution (the code to be executed) that test if the integer is even or odd.\n",
    "\n",
    "<img src=\"./imgs/while-loop-if-else-even-vs-odd-animation-how-it-works.gif\">\n",
    "\n",
    "the code:\n",
    "```python\n",
    "a = 1\n",
    "while a < 7:\n",
    "    if a%2==0 :\n",
    "        print('a is even')\n",
    "    else: \n",
    "        print('a is odd')\n",
    "    a += 1\n",
    "```\n",
    "\n",
    "That is a while loop runs until conditions is reached *not* for a specific number of times. This is useful if you do not know the amount of time the loop need to run to reach the condition. \n",
    "\n",
    "## For loop\n",
    "Another type of loop is **For loop**, these are used when we want the loop to run for a known number of times. For example, We have a data set where we want to do something, e.g. calculate reaction time, for each row in the data set. I would say that for loops are used most of the time when a loop is needed.\n",
    "\n",
    "In python the ```counter``` in for loop are going on behind the scene, i.e. that is we do not have to declare it or update it. In most programming language you will have to declare and sometimes update it, e.g. in MatLab. \n",
    "\n",
    "So in python we have:\n",
    "* Statement to be evaluated\n",
    "* Code to be executed (code block)\n",
    "\n",
    "For example: \n",
    "\n",
    "```python\n",
    "numbers = [1, 2, 3, 4, 5]\n",
    "for nn in numbers:\n",
    "    print(nn)\n",
    "```\n"
   ]
  },
  {
   "cell_type": "markdown",
   "metadata": {},
   "source": [
    "### Exercise\n",
    "\n",
    "While loops\n",
    "\n",
    "For loops \n"
   ]
  },
  {
   "cell_type": "markdown",
   "metadata": {},
   "source": [
    "# Functions\n",
    "\n",
    "A function is a defined code statement or statements that can be executed by being called. We can used functions when we know we have some code that we would like to run \n",
    "\n",
    "\n",
    "Function definition:\n",
    "> In the context of programming, a function is a named sequence of statements that\n",
    "performs a computation. <br />\n",
    "> (Python for Everybody: Exploring Data in Python 3, p. 43)\n",
    "\n",
    "The syntax for functions differ among programming languages, so here will only focus on python. In python a function must be declare using ```def``` (short for definition) followed by a name of the function, e.g.\n",
    "```python\n",
    "def hello_world():\n",
    "    print('Hello world')\n",
    "```\n",
    "Notice that after the function name the are a set of parentheses \"()\" and a colon \":\". On a new line the code statement(s) come, just like with the loops and conditional executions.  \n",
    "\n",
    "The above function always do the same thing but more often we want function to perform some computation on some input. For that we can add ```parameters``` to the function, they go inside the parentheses.\n",
    "```python\n",
    "def upper_case(text):\n",
    "    print(text.upper())\n",
    "```\n"
   ]
  },
  {
   "cell_type": "markdown",
   "metadata": {},
   "source": [
    "### Exercise \n",
    "In a cell below write the two functions from above (hello_world, upper_case) as they are and run them.\n",
    "\n",
    "* why is there no output when running upper_case? \n"
   ]
  },
  {
   "cell_type": "markdown",
   "metadata": {},
   "source": [
    "A function can have as many parameters as you want. A very useful feature is that you can preset a default value for a parameter. That is, if the value of a parameter will be same for most runs but you would still like to have the option to change it. \n",
    "\n",
    "An example:\n",
    "```python\n",
    "def upper_case(text=\"foo\"):\n",
    "    print(text.upper())\n",
    "```\n",
    "\n",
    "\n",
    "\n",
    "        "
   ]
  },
  {
   "cell_type": "markdown",
   "metadata": {},
   "source": [
    "### Exercise\n",
    "* Write a function that make all the charecters in a string lower case. (hint the method to use is called ```lower```)\n",
    "* Extend the above function with a default text"
   ]
  },
  {
   "cell_type": "markdown",
   "metadata": {},
   "source": [
    "A general rule of thumb is that: \n",
    ">**Any code that will be used more than once should be in a function** "
   ]
  },
  {
   "cell_type": "markdown",
   "metadata": {},
   "source": [
    "### Exercise (Discuss in small groups):\n",
    "- What is the meaning of the above statement and why is it important to do that? \n",
    "- Why use functions? "
   ]
  },
  {
   "cell_type": "markdown",
   "metadata": {},
   "source": [
    "Why use functions? There are several reasons Severance mentions four (Python for Everybody: Exploring Data in Python 3, p. 52):\n",
    "\n",
    "* Creating a new function gives you an opportunity to name a group of statements, which makes your program easier to read, understand, and debug.\n",
    "* Functions can make a program smaller by eliminating repetitive code. Later, if you make a change, you only have to make it in one place.\n",
    "* Dividing a long program into functions allows you to debug the parts one at a time and then assemble them into a working whole.\n",
    "* Well-designed functions are often useful for many programs. Once you write and debug one, you can reuse it."
   ]
  },
  {
   "cell_type": "markdown",
   "metadata": {},
   "source": [
    "# Exercises\n",
    "1. Combine a for loop and a function to square a list of integers. Make it so that if the numbers of integers in the list change it will still run. \n",
    "2. "
   ]
  },
  {
   "cell_type": "code",
   "execution_count": null,
   "metadata": {},
   "outputs": [],
   "source": []
  }
 ],
 "metadata": {
  "kernelspec": {
   "display_name": "Python 3",
   "language": "python",
   "name": "python3"
  },
  "language_info": {
   "codemirror_mode": {
    "name": "ipython",
    "version": 3
   },
   "file_extension": ".py",
   "mimetype": "text/x-python",
   "name": "python",
   "nbconvert_exporter": "python",
   "pygments_lexer": "ipython3",
   "version": "3.7.0"
  }
 },
 "nbformat": 4,
 "nbformat_minor": 2
}
