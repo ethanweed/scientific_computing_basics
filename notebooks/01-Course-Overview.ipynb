{
 "cells": [
  {
   "cell_type": "markdown",
   "metadata": {},
   "source": [
    "# Scientific computing basics\n"
   ]
  },
  {
   "cell_type": "markdown",
   "metadata": {},
   "source": [
    "-----\n",
    "## Day 1: The anatomy of a computer and data\n",
    "\n",
    "### Preparation: What is computation?\n",
    "\n",
    "What does a computer _do_? What is it \"made of\"? How can it play Youtube videos of kittens? How does a computer relate to *information*? (Answer: via *data*).\n",
    "\n",
    "**Read** [this document](11-What-is-a-computer.ipynb). **NB**: Take a look at the exercises at the end of it!\n",
    "\n",
    "What is _data science_? And what does it mean to _drive_ health care/science?\n",
    "\n",
    "**Read** [this document](02-Data-driven-health-science.ipynb); be sure to follow the links to external pages and videos (how do you feel/think about the visions portrayed in the videos?).\n",
    "\n",
    "What are _programs_ and _algorithms_?\n",
    "\n",
    "**Watch** [this video](https://ocw.mit.edu/courses/electrical-engineering-and-computer-science/6-0001-introduction-to-computer-science-and-programming-in-python-fall-2016/lecture-videos/lecture-1-what-is-computation/) (ca. 6:50 - 29:00 minutes)\n",
    "* you can skip\n",
    "    * the intro to around 6:50 minutes\n",
    "    * from around 29 minutes onwards, where the lecturer starts talking about Python and data objects (though you might want to return to this after the course!)\n",
    "* the associated slides can be downloaded [here](https://ocw.mit.edu/courses/electrical-engineering-and-computer-science/6-0001-introduction-to-computer-science-and-programming-in-python-fall-2016/lecture-slides-code/MIT6_0001F16_Lec1.pdf)\n",
    "\n",
    "**Read** also pages 1-6 of [this book](https://mitpress.mit.edu/books/introduction-computation-and-programming-using-python-second-edition) (provided separately by the lecturers)\n",
    "* if interested (not required), see also the [course home page on MITs OpenCourseWare website](https://ocw.mit.edu/courses/electrical-engineering-and-computer-science/6-0001-introduction-to-computer-science-and-programming-in-python-fall-2016/index.htm)"
   ]
  },
  {
   "cell_type": "markdown",
   "metadata": {},
   "source": [
    "### [Computers and data](11-What-is-a-computer.ipynb)\n",
    "\n",
    "The busy lives of bits and bytes.\n",
    "\n",
    "### [Data driven (health) science](02-Data-driven-health-science.ipynb)\n",
    "\n",
    "What is _data science_? And what does it mean to _drive_ health care/science?"
   ]
  },
  {
   "cell_type": "markdown",
   "metadata": {},
   "source": [
    "### [Software installation](03-Software-installations.ipynb)\n",
    "\n",
    "For now, let's define 'software' as _that which is executed by the hardware of the computer when you are using it_.\n",
    "\n",
    "What's going on at the level of files and file systems when we 'install' software?"
   ]
  },
  {
   "cell_type": "markdown",
   "metadata": {},
   "source": [
    "### [Files and file systems](12-Files-and-filesystems.ipynb)\n",
    "\n",
    "How is data 'contained', and how can we find it when we need it?"
   ]
  },
  {
   "cell_type": "markdown",
   "metadata": {},
   "source": [
    "------\n",
    "\n",
    "## Day 2: Talking to your PC\n",
    "\n",
    "**Please skim through these three pages before class** (we will cover them during the interactive lectures)\n",
    "\n",
    "* [Algorithms and programs](31-Anatomy-of-programs.ipynb)\n",
    "* [The 'language(s)' of computing](32-Language-of-computing.ipynb)\n",
    "* [Different 'types' of data](33-Data-types.ipynb)\n",
    "\n",
    "\n",
    "### [The Command Line Interface (CLI)](21-Command-line-interface.ipynb)\n",
    "\n",
    "Forget the mouse, both hands on the keyboard, please!\n",
    "\n",
    "### [Working on the command line](22-Working-on-command-line.ipynb)\n",
    "\n",
    "That's cute, but does it actually do something _useful_?\n",
    "\n",
    "### [Finding stuff](23-Finding-on-command-line.ipynb)\n",
    "\n",
    "When faced with a deeply-nested folder structure with thousands of files, who do you call?\n",
    "\n",
    "### [The anatomy and building blocks of a program](31-Anatomy-of-programs.ipynb)\n",
    "\n",
    "Computers are _really_ dumb, but they can be _instructed_ (by clever people) to do clever things. We call this \"programming\"."
   ]
  },
  {
   "cell_type": "markdown",
   "metadata": {},
   "source": [
    "-----\n",
    "\n",
    "## Day 3: Programming to gain insight into data\n",
    "\n",
    "We will illustrate the power of programming using [this __Assignment__](41-Assignment.ipynb).\n",
    "\n",
    "The simulated data we'll be working on is \"inspired\" by [this paper](../pdf/Luck_2009_Impaired_Response_Selection_Schizophrenia.pdf), you might be interested in reading the abstract and introduction.\n",
    "\n",
    "We will start by _parsing_ a single logfile, then _refactor_ the code into a function that can be applied to all logs to extract the data we need."
   ]
  },
  {
   "cell_type": "code",
   "execution_count": null,
   "metadata": {},
   "outputs": [],
   "source": []
  }
 ],
 "metadata": {
  "kernelspec": {
   "display_name": "Python 3",
   "language": "python",
   "name": "python3"
  },
  "language_info": {
   "codemirror_mode": {
    "name": "ipython",
    "version": 3
   },
   "file_extension": ".py",
   "mimetype": "text/x-python",
   "name": "python",
   "nbconvert_exporter": "python",
   "pygments_lexer": "ipython3",
   "version": "3.6.6"
  }
 },
 "nbformat": 4,
 "nbformat_minor": 2
}
