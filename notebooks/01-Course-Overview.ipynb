{
 "cells": [
  {
   "cell_type": "markdown",
   "metadata": {},
   "source": [
    "# Scientific computing basics\n",
    "\n",
    "## What is 'data'?\n",
    "\n",
    "Conceptually? Operationally?"
   ]
  },
  {
   "cell_type": "markdown",
   "metadata": {},
   "source": [
    "## [Data driven (health) science](02-Data-driven-health-science.ipynb)\n",
    "\n",
    "What is _data science_? And what does it mean to _drive_ health care/science?\n",
    "\n",
    "## [Software installation](03-Software-installations.ipynb)\n",
    "\n",
    "For now, let's define 'software' as _that which is executed by the hardware of the computer when you are using it_.\n",
    "\n",
    "What's going on at the level of files and file systems when we 'install' software?"
   ]
  },
  {
   "cell_type": "markdown",
   "metadata": {},
   "source": [
    "# The anatomy of a computer and data\n",
    "\n",
    "## What is computation?\n",
    "\n",
    "What does a computer _do_? What are _programs_ and _algorithms_?\n",
    "\n",
    "As preparation for the first day of class, please watch [this video](https://ocw.mit.edu/courses/electrical-engineering-and-computer-science/6-0001-introduction-to-computer-science-and-programming-in-python-fall-2016/lecture-videos/lecture-1-what-is-computation/) \n",
    "* you can skip\n",
    "    * the intro to around 6:50 minutes\n",
    "    * from around 29 minutes onwards, where the lecturer starts talking about Python and data objects (though you might want to return to this after the course!)\n",
    "* the associated slides can be downloaded [here](https://ocw.mit.edu/courses/electrical-engineering-and-computer-science/6-0001-introduction-to-computer-science-and-programming-in-python-fall-2016/lecture-slides-code/MIT6_0001F16_Lec1.pdf)\n",
    "\n",
    "Please also read pages 1-6 of [this book](https://mitpress.mit.edu/books/introduction-computation-and-programming-using-python-second-edition) (provided separately by the lecturers)\n",
    "* if interested, see also the [course home page on MITs OpenCourseWare website](https://ocw.mit.edu/courses/electrical-engineering-and-computer-science/6-0001-introduction-to-computer-science-and-programming-in-python-fall-2016/index.htm)\n",
    "\n",
    "### [What is a computer?](11-What-is-a-computer.ipynb)\n",
    "\n",
    "What is it \"made of\"? How can it play Youtube videos of kittens?"
   ]
  },
  {
   "cell_type": "markdown",
   "metadata": {},
   "source": [
    "## [Files and file systems](12-Files-and-filesystems.ipynb)\n",
    "\n",
    "How is data 'contained', and how can we find it when we need it?"
   ]
  },
  {
   "cell_type": "markdown",
   "metadata": {},
   "source": [
    "## [The Command Line Interface (CLI)](21-Command-line-interface.ipynb)\n",
    "\n",
    "Talk to your PC!\n",
    "\n",
    "### [Working on the command line](22-Working-on-command-line.ipynb)\n",
    "\n",
    "That's cute, but does it actually do something _useful_?\n",
    "\n",
    "### [Finding stuff](23-Finding-on-command-line.ipynb)\n",
    "\n",
    "When faced with a deeply-nested folder structure with thousands of files, who do you call?"
   ]
  },
  {
   "cell_type": "markdown",
   "metadata": {},
   "source": [
    "Computers are _really_ dumb, but they can be _instructed_ (by clever people) to do clever things. We call this \"programming\".\n",
    "\n",
    "# [The anatomy and building blocks of a program](31-Anatomy-of-programs.ipynb)\n",
    "\n"
   ]
  },
  {
   "cell_type": "markdown",
   "metadata": {},
   "source": [
    "# Programming to gain insight into data\n",
    "\n",
    "We will illustrate the power of programming using [this __Assignment__](41-Assignment.ipynb).\n",
    "\n",
    "## [Start by parsing a single logfile](43-Single-logfile-parser.ipynb)\n",
    "\n",
    "## _Refactor_ the code into a function, and apply to all logs"
   ]
  },
  {
   "cell_type": "code",
   "execution_count": null,
   "metadata": {},
   "outputs": [],
   "source": []
  }
 ],
 "metadata": {
  "kernelspec": {
   "display_name": "Python 3",
   "language": "python",
   "name": "python3"
  },
  "language_info": {
   "codemirror_mode": {
    "name": "ipython",
    "version": 3
   },
   "file_extension": ".py",
   "mimetype": "text/x-python",
   "name": "python",
   "nbconvert_exporter": "python",
   "pygments_lexer": "ipython3",
   "version": "3.6.6"
  }
 },
 "nbformat": 4,
 "nbformat_minor": 2
}
