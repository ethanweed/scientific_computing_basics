{
 "cells": [
  {
   "cell_type": "markdown",
   "metadata": {},
   "source": [
    " \n",
    "# Data types  "
   ]
  },
  {
   "cell_type": "markdown",
   "metadata": {},
   "source": [
    "## Integers  \n",
    "  \n",
    "_a.k.a._ whole numbers. Recall that everything in a computer system is represented in _bits_, corresponding to successive powers of 2. The largest integer that can be represented in a single 64-bit memory register is $2^{63} - 1$:"
   ]
  },
  {
   "cell_type": "code",
   "execution_count": null,
   "metadata": {},
   "outputs": [],
   "source": [
    "pow(2, 63) - 1"
   ]
  },
  {
   "cell_type": "markdown",
   "metadata": {},
   "source": [
    "which is called: \"nine quintillion two hundred twenty-three quadrillion three hundred seventy-two trillion thirty-six billion eight hundred fifty-four million seven hundred seventy-five thousand eight hundred seven\" (in case you were wondering).\n",
    "\n",
    "In practice, computers can perform arithmetic on arbitrarily large integers, as long as the language implemeting the computing suitably keeps track of what's going on in memory"
   ]
  },
  {
   "cell_type": "markdown",
   "metadata": {},
   "source": [
    "## Floating point numbers\n",
    "\n",
    "_a.k.a_ real numbers, or just \"floats\". What is the powers-of-two representation of the real number `0.1`? What about the value of $\\pi$ (an irrational number)? There are none! If you're interested precisely how floating point numbers are represented in binary form, check out [this wiki page on the topic](https://en.wikipedia.org/wiki/IEEE_754), but bewarned: it's hairy!\n",
    "\n",
    "The most relevant parameter for floats is not its size, but its _precision_. \n",
    "\n",
    "<img src=\"imgs/float_precision.jpg\" width=\"400\">\n",
    ">[Image source.](https://image.slidesharecdn.com/3-numbersystemsfloatingpoint-150305164257-conversion-gate01/95/3-number-systemsfloatingpoint-4-638.jpg?cb=1425573795)\n",
    "\n",
    "You can think of floating point precision as the number of digits after the decimal comma. For example:\n",
    "\n",
    "$\\frac{2}{3} \\sim 0.6667$ is a more precise representation than $\\frac{2}{3} \\sim 0.7$\n",
    "\n",
    "Like integers, real number need to be stored using some number of bits (and a scheme for representing it, as discussed above). You are likely to come across the terms ‘float’ and ‘single’: these refer to real numbers represented using 32-bit resolution. A ‘double’ refers to a 64-bit representation of a number. It is beyond the scope of this course to go into the details of under which conditions one representation/precision is more appropriate than the other. Suffice it to say: it’s better to err on the side of caution and use doubles. This is indeed what all mainstream interpreted languages do.\n",
    "\n",
    "We'll return to the issue of floats vs. doubles [below](#Large-datasets-and-the-limits-of-memory) in the context of the limits of memory (not yours, the computer's)."
   ]
  },
  {
   "cell_type": "markdown",
   "metadata": {},
   "source": [
    "## Characters and strings  \n",
    "  \n",
    "A string is an ordered sequence of (one or more) characters. In python, strings are particularly nimble (don’t try this in other languages!):"
   ]
  },
  {
   "cell_type": "code",
   "execution_count": null,
   "metadata": {
    "collapsed": true
   },
   "outputs": [],
   "source": [
    "a_character = '*'  # a single character\n",
    "one_string = 'I am a '  # several characters in a row = a string\n",
    "another_string = \"Snowflake\"  # single or double quotes work in Python\n",
    "print(one_string + another_string)\n",
    "print(3 * another_string + a_character)"
   ]
  },
  {
   "cell_type": "markdown",
   "metadata": {},
   "source": [
    "There is all manner of mayhem associated with character strings in programming languages. The thorniest issue is related to __encoding__: just like floats need to be represented as a sequence of bits, so do characters.\n",
    "\n",
    "The most simple character encoding scheme is [ASCII](https://en.wikipedia.org/wiki/ASCII): an 8-bit translation table between a number between one and 255 ($=2^8-1$), and the corresponding character."
   ]
  },
  {
   "cell_type": "code",
   "execution_count": null,
   "metadata": {},
   "outputs": [],
   "source": [
    "print(\"The binary representation of the letter 'G' is:\", bin(ord('G'))[2:])"
   ]
  },
  {
   "cell_type": "code",
   "execution_count": null,
   "metadata": {},
   "outputs": [],
   "source": [
    "print(\"The ASCII character representation of the binary code 1001000 is:\", chr(int('1001000', 2)))"
   ]
  },
  {
   "cell_type": "markdown",
   "metadata": {},
   "source": [
    "## Lists and other collections  \n",
    "  \n",
    "A list is an ordered sequence of elements of another type. In python, we can assign a list to a variable using the following syntax"
   ]
  },
  {
   "cell_type": "code",
   "execution_count": null,
   "metadata": {
    "collapsed": true
   },
   "outputs": [],
   "source": [
    "one_to_five = [1, 2, 3, 4, 5]  "
   ]
  },
  {
   "cell_type": "markdown",
   "metadata": {},
   "source": [
    "The word ‘list’ is usually reserved for an _ordered_ set of elements. Some languages also have the concept of a ‘collection’ of (unordered) elements (in Python, this is known as a ‘set’).  "
   ]
  },
  {
   "cell_type": "markdown",
   "metadata": {},
   "source": [
    "### List can be \"sliced\", i.e. take some of the entries"
   ]
  },
  {
   "cell_type": "code",
   "execution_count": 2,
   "metadata": {},
   "outputs": [
    {
     "name": "stdout",
     "output_type": "stream",
     "text": [
      "pot\n"
     ]
    }
   ],
   "source": [
    "kitchen_utilities = [\"pot\", \"pan\", \"knives\", \"forks\"]  # Notice the hard brackets\n",
    "print(kitchen_utilities[0]) # 0 for the first entry, use 1 or 2 for the other entries."
   ]
  },
  {
   "cell_type": "code",
   "execution_count": 3,
   "metadata": {},
   "outputs": [
    {
     "name": "stdout",
     "output_type": "stream",
     "text": [
      "['pan', 'knives']\n"
     ]
    }
   ],
   "source": [
    "print(kitchen_utilities[1:3]) # 0 for the first entry, use 1 or 2 for the other entries."
   ]
  },
  {
   "cell_type": "markdown",
   "metadata": {},
   "source": [
    "Depending on the language, the power of lists ranges from great to humongous."
   ]
  },
  {
   "cell_type": "code",
   "execution_count": null,
   "metadata": {
    "collapsed": true
   },
   "outputs": [],
   "source": [
    "# lists can contain any objects, including other lists...  \n",
    "a_crazy_list_in_python = ['one', 2, 3.0, one_to_five]\n",
    "print(a_crazy_list_in_python)"
   ]
  },
  {
   "cell_type": "markdown",
   "metadata": {},
   "source": [
    "## Dictionaries, hashes, etc.  \n",
    "  \n",
    "The use of more advanced structures often enables efficient implementation of complex computations (such as signal-processing operations on large datasets). The types of data structures available are highly language-dependent, and using them becomes natural if and when the domain-specific problem calls for it. No need to learn something you won’t use, however...\n",
    "\n",
    "## Vectors and arrays\n",
    "\n",
    "When operating with real-world _measurements_ of some physical process or phenomenon (MRI, EEG, DNA/protein microarrays, ...), each individual _data point_ usually has a meaningful _positional relationship_ to other points. For example, a voxel in an MR image shares a face with 6 neighbouring voxels. The data point of a single EEG channel acquired at time _t_ is \"to the left of\" that acquired at time _t+1_. Column 563 of a microarray plate is associated with the expression level of gene _AbC-123_. Etc. The relationship between data points can be highly non-trivial and, most importantly, the _processing tasks_ applied to the data both expect a particular structure __and__ exploit it during computations.\n",
    "\n",
    "Numerical computations on measurement data are often (in practice: always) performed on optimised data types known as _arrays_. Arrays are _N_-dimensional cartesian \"blocks\" of data, sampled along some dimension (space, time, frequency, gene/protein ID, subject ID, ...).\n",
    "\n",
    "<img src=\"imgs/numpy_array_dims.png\" width=\"200\">\n",
    "\n",
    "_Vector_ is just a special name given for a 1-dimensional array. Common to all arrays, and the programming languages that implement them (Matlab, the `NumPy`-module in Python, ...), is that the data they contain are laid out _efficiently_ in memory: data belonging to an array are stored in a cluster of memory, instead of being randomly spread out over all possible addresses. The (huge) advantage of this approach is that whenever the data is to be operated on, the CPU only needs to know where (in memory) the array starts, and what it's dimensions are; there is no time wasted on _locating_ each element of the array before operating on them."
   ]
  },
  {
   "cell_type": "code",
   "execution_count": null,
   "metadata": {},
   "outputs": [],
   "source": []
  }
 ],
 "metadata": {
  "kernelspec": {
   "display_name": "Python 3",
   "language": "python",
   "name": "python3"
  },
  "language_info": {
   "codemirror_mode": {
    "name": "ipython",
    "version": 3
   },
   "file_extension": ".py",
   "mimetype": "text/x-python",
   "name": "python",
   "nbconvert_exporter": "python",
   "pygments_lexer": "ipython3",
   "version": "3.6.6"
  }
 },
 "nbformat": 4,
 "nbformat_minor": 2
}
