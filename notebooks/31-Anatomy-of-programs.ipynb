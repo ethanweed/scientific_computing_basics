{
 "cells": [
  {
   "cell_type": "markdown",
   "metadata": {},
   "source": [
    "# The anatomy and building blocks of a program\n",
    "\n",
    "Programming is a distinctly different activity from writing in a word processor or entering values into a spreadsheet. Besides the obvious distinction (someone needed to program the applications you use for those tasks), when you are \"using\" a computer, you are operating within the bounds of whatever the program was designed to do (as a counter-example, try adding two values together in Word...). On the contrary, a _programmer_ designs new applications for specific needs.\n",
    "\n",
    "Now \"programmer\" may seem like a mouthful, but for there is no ready-made application for _data-driven (health) science_! And even within the specialities (_e.g._ genetic sequencing), only in very few cases can you hope to double-click on a data file and have something reasonable happen. Instead, it is up to you as the domain-expert to guide the flow of bits in order to gain insight.\n",
    "\n",
    "Programming is not a monolithic concept, it can mean a bunch of things. In this course we will be dealing with what could be described as _high-level_ programming, which has the characteristic of being quite abstract with respect to the underlying hardware implementing the programs. In other words, we will leave as much as the _low-level_ hardware optimisation to the \"real\" programmers as possible, and instead focus on learning how to join together existing _routines_ for implementing specific tasks.\n",
    "\n",
    "As already mentioned [before](11-What-is-a-computer.ipynb), this by no means implies that we can treat the computer as a black box! Ultimately, it is up to you to ensure that the operations that you line up are _reasonable_ with respect to the specifications of the computers performing them (especially: CPU time and memory requirements)."
   ]
  },
  {
   "cell_type": "markdown",
   "metadata": {},
   "source": [
    "## On _algorithms_\n",
    "\n",
    "In \"_World Without Mind: The Existential Threat of Big Tech_\", Franklin Foer writes:\n",
    "\n",
    ">The essence of the algorithm is entirely uncomplicated. The textbooks compare them to recipes – a series of precise steps that can be followed mindlessly. This is different from equations, which have one correct result. Algorithms merely capture the process for solving a problem and say nothing about where those steps ultimately lead.\n",
    "\n",
    "> These recipes are the crucial building blocks of software. Programmers can’t simply order a computer to, say, search the internet. They must give the computer a set of specific instructions for accomplishing that task. These instructions must take the messy human activity of looking for information and transpose that into an orderly process that can be expressed in code. First do this … then do that. The process of translation, from concept to procedure to code, is inherently reductive. Complex processes must be subdivided into a series of binary choices. There’s no equation to suggest a dress to wear, but an algorithm could easily be written for that – it will work its way through a series of either/or questions (morning or night, winter or summer, sun or rain), with each choice pushing to the next.\n",
    "\n",
    "See [this Guardian Long Read article](https://www.theguardian.com/technology/2017/sep/19/facebooks-war-on-free-will) for a highly interesting take on how it is in _everyone's_ interest to be aware of the algorithms that steer our own 'motives' and choices.\n",
    "\n",
    "### Do we even need models/theories anymore?\n",
    "\n",
    "It [has been argued](https://www.wired.com/2008/06/pb-theory/) that the _direct application of algorithms on data_ could make obsolete the entire [scientific method](https://en.wikipedia.org/wiki/Scientific_method). That sheer processing power can surface 'patterns' in data that were not included in any models or theories, and that, therefore, we can bypass theories.\n",
    "\n",
    "This is of course a load of cattle excrement, typical of people who have no formal training in the sciences. Franklin Foer puts is succinctly:\n",
    "\n",
    ">Computer scientists have an aphorism that describes how algorithms relentlessly hunt for patterns: they talk about torturing the data until it confesses. Yet this metaphor contains unexamined implications. Data, like victims of torture, tells its interrogator what it wants to hear."
   ]
  },
  {
   "cell_type": "markdown",
   "metadata": {},
   "source": [
    "## Computer programs and data types\n",
    "\n",
    "### [The language of computing](32-Language-of-computing.ipynb)\n",
    "\n",
    "Computer programs _implement_ algorithms, but there's more than one way of skinning a cat.\n",
    "\n",
    "### [Data types](33-Data-types.ipynb)\n",
    "\n",
    "### [Building blocks](34-Building-blocks-of-program.ipynb)"
   ]
  },
  {
   "cell_type": "code",
   "execution_count": null,
   "metadata": {},
   "outputs": [],
   "source": []
  }
 ],
 "metadata": {
  "kernelspec": {
   "display_name": "Python 3",
   "language": "python",
   "name": "python3"
  },
  "language_info": {
   "codemirror_mode": {
    "name": "ipython",
    "version": 3
   },
   "file_extension": ".py",
   "mimetype": "text/x-python",
   "name": "python",
   "nbconvert_exporter": "python",
   "pygments_lexer": "ipython3",
   "version": "3.6.6"
  }
 },
 "nbformat": 4,
 "nbformat_minor": 2
}
