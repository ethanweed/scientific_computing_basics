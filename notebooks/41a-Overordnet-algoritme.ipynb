{
 "cells": [
  {
   "cell_type": "markdown",
   "metadata": {},
   "source": [
    "# Algoritme til løsning af opgaven"
   ]
  },
  {
   "cell_type": "markdown",
   "metadata": {},
   "source": [
    "Havelåge angiver kommentar-linie, spring dem over (header)"
   ]
  },
  {
   "cell_type": "markdown",
   "metadata": {},
   "source": [
    "Læs 1 linie ad gangen, spring over #"
   ]
  },
  {
   "cell_type": "markdown",
   "metadata": {},
   "source": [
    "Står der 'STIM' eller 'RESP' i 3. kolonne? Læs enten hhv. stimulus type eller respons."
   ]
  },
  {
   "cell_type": "markdown",
   "metadata": {},
   "source": [
    "Derefter trække værdierne i 1. kolonne fra hinanden."
   ]
  },
  {
   "cell_type": "markdown",
   "metadata": {},
   "source": [
    "Gemme RT-værdierne i to lister (freq og rare), og det samme for CORR/INCORR. "
   ]
  },
  {
   "cell_type": "markdown",
   "metadata": {},
   "source": [
    "Efter alle linier læst, beregne mean, median & Acc. Skrive resultaterne i en resultat-fil (1 linie ad gangen)."
   ]
  },
  {
   "cell_type": "markdown",
   "metadata": {},
   "source": [
    "Vi skal vide om 00NN er Patient eller Ctrl. Hvordan?"
   ]
  },
  {
   "cell_type": "code",
   "execution_count": 23,
   "metadata": {},
   "outputs": [],
   "source": [
    "def read_log_file_line(csv_file, lineno, field_sep='\\t'):\n",
    "    \n",
    "    fp = open(csv_file, 'r')\n",
    "    all_lines = fp.readlines()\n",
    "    fp.close()\n",
    "    \n",
    "    cur_line = all_lines[lineno]\n",
    "    elems = cur_line.split(field_sep)\n",
    "    \n",
    "    return(elems)"
   ]
  },
  {
   "cell_type": "code",
   "execution_count": 82,
   "metadata": {},
   "outputs": [],
   "source": [
    "def mean(values):\n",
    "    '''Return the mean of a list of numbers'''\n",
    "    return(sum(values)/len(values))\n",
    "\n",
    "def median(values):\n",
    "    '''Return the median of a list of numbers\n",
    "    NB: Should be corrected for the case of even number of values!\n",
    "    '''\n",
    "    return(sorted(values)[len(values) // 2])"
   ]
  },
  {
   "cell_type": "code",
   "execution_count": 58,
   "metadata": {},
   "outputs": [],
   "source": [
    "import string\n",
    "\n",
    "def read_log_file(csv_file, field_sep='\\t'):\n",
    "    \n",
    "    fp = open(csv_file, 'r')\n",
    "    all_lines = fp.readlines()\n",
    "    fp.close()\n",
    "    \n",
    "    all_RT = []\n",
    "    all_resp = []\n",
    "    all_type = []\n",
    "\n",
    "    for line in all_lines:\n",
    "        if line[0] != '#':  # if line.startswith('#')\n",
    "            split_line = line.split(field_sep)\n",
    "            if split_line[2].startswith('STIM'):\n",
    "                #\n",
    "                stim_time = int(split_line[0]) / 10\n",
    "                if split_line[2][5] in string.ascii_lowercase:\n",
    "                    stim_type = 'freq'\n",
    "                else:\n",
    "                    stim_type = 'rare'\n",
    "            else:\n",
    "                #\n",
    "                resp_time = int(split_line[0]) / 10\n",
    "                if ((split_line[2][5] == '1' and stim_type == 'freq') or\n",
    "                    (split_line[2][5] == '2' and stim_type == 'rare')):\n",
    "                    \n",
    "                    resp_type = True  # eller 1\n",
    "                else:\n",
    "                    resp_type = False  # eller 0                    \n",
    "\n",
    "                RT = resp_time - stim_time\n",
    "                all_RT.append(RT)\n",
    "                all_resp.append(resp_type)\n",
    "                all_type.append(stim_type)\n",
    "\n",
    "    return(all_RT, all_resp, all_type)"
   ]
  },
  {
   "cell_type": "code",
   "execution_count": 52,
   "metadata": {},
   "outputs": [],
   "source": [
    "#read_log_file('logs/0012_CGS_2016-09-30.log')"
   ]
  },
  {
   "cell_type": "code",
   "execution_count": 67,
   "metadata": {},
   "outputs": [],
   "source": [
    "RTs, resps, types = read_log_file('logs/0012_CGS_2016-09-30.log')"
   ]
  },
  {
   "cell_type": "code",
   "execution_count": 75,
   "metadata": {},
   "outputs": [],
   "source": [
    "freq_RT = [rt for rt, tp in zip(RTs, types) if tp == 'freq']\n",
    "rare_RT = [rt for rt, tp in zip(RTs, types) if tp == 'rare']\n",
    "\n",
    "freq_resp = [rt for rt, tp in zip(resps, types) if tp == 'freq']\n",
    "rare_resp = [rt for rt, tp in zip(resps, types) if tp == 'rare']"
   ]
  },
  {
   "cell_type": "code",
   "execution_count": 78,
   "metadata": {},
   "outputs": [
    {
     "data": {
      "text/plain": [
       "574.1522460937498"
      ]
     },
     "execution_count": 78,
     "metadata": {},
     "output_type": "execute_result"
    }
   ],
   "source": [
    "mean(freq_RT)"
   ]
  },
  {
   "cell_type": "code",
   "execution_count": 79,
   "metadata": {},
   "outputs": [
    {
     "data": {
      "text/plain": [
       "536.5"
      ]
     },
     "execution_count": 79,
     "metadata": {},
     "output_type": "execute_result"
    }
   ],
   "source": [
    "median(freq_RT)"
   ]
  },
  {
   "cell_type": "code",
   "execution_count": 80,
   "metadata": {},
   "outputs": [
    {
     "data": {
      "text/plain": [
       "666.9933593749968"
      ]
     },
     "execution_count": 80,
     "metadata": {},
     "output_type": "execute_result"
    }
   ],
   "source": [
    "mean(rare_RT)"
   ]
  },
  {
   "cell_type": "code",
   "execution_count": 81,
   "metadata": {},
   "outputs": [
    {
     "data": {
      "text/plain": [
       "645.2999999999884"
      ]
     },
     "execution_count": 81,
     "metadata": {},
     "output_type": "execute_result"
    }
   ],
   "source": [
    "median(rare_RT)"
   ]
  },
  {
   "cell_type": "code",
   "execution_count": 83,
   "metadata": {},
   "outputs": [
    {
     "data": {
      "text/plain": [
       "0.9482421875"
      ]
     },
     "execution_count": 83,
     "metadata": {},
     "output_type": "execute_result"
    }
   ],
   "source": [
    "mean(freq_resp)"
   ]
  },
  {
   "cell_type": "code",
   "execution_count": 5,
   "metadata": {},
   "outputs": [],
   "source": [
    "csv_file = 'logs/0012_CGS_2016-09-30.log'\n",
    "\n",
    "fp = open(csv_file, 'r')\n",
    "all_lines = fp.readlines()\n",
    "fp.close()"
   ]
  },
  {
   "cell_type": "code",
   "execution_count": 7,
   "metadata": {},
   "outputs": [],
   "source": [
    "stim_line = all_lines[5]\n",
    "resp_line = all_lines[6]"
   ]
  },
  {
   "cell_type": "code",
   "execution_count": 45,
   "metadata": {},
   "outputs": [],
   "source": [
    "import string"
   ]
  },
  {
   "cell_type": "code",
   "execution_count": 49,
   "metadata": {},
   "outputs": [
    {
     "data": {
      "text/plain": [
       "'0123456789'"
      ]
     },
     "execution_count": 49,
     "metadata": {},
     "output_type": "execute_result"
    }
   ],
   "source": [
    "string.digits"
   ]
  },
  {
   "cell_type": "code",
   "execution_count": 47,
   "metadata": {},
   "outputs": [
    {
     "data": {
      "text/plain": [
       "True"
      ]
     },
     "execution_count": 47,
     "metadata": {},
     "output_type": "execute_result"
    }
   ],
   "source": [
    "stim_line.split('\\t')[2][5] in string.ascii_lowercase"
   ]
  },
  {
   "cell_type": "code",
   "execution_count": 39,
   "metadata": {},
   "outputs": [
    {
     "data": {
      "text/plain": [
       "True"
      ]
     },
     "execution_count": 39,
     "metadata": {},
     "output_type": "execute_result"
    }
   ],
   "source": [
    "stim_line.endswith('\\n')"
   ]
  },
  {
   "cell_type": "code",
   "execution_count": 9,
   "metadata": {},
   "outputs": [
    {
     "data": {
      "text/plain": [
       "'43557\\t42\\tRESP=1\\n'"
      ]
     },
     "execution_count": 9,
     "metadata": {},
     "output_type": "execute_result"
    }
   ],
   "source": [
    "resp_line"
   ]
  },
  {
   "cell_type": "code",
   "execution_count": 11,
   "metadata": {},
   "outputs": [],
   "source": [
    "stim_time = stim_line.split('\\t')[0]\n",
    "resp_time = resp_line.split('\\t')[0]"
   ]
  },
  {
   "cell_type": "code",
   "execution_count": 12,
   "metadata": {},
   "outputs": [
    {
     "name": "stdout",
     "output_type": "stream",
     "text": [
      "37006\n",
      "43557\n"
     ]
    }
   ],
   "source": [
    "print(stim_time)\n",
    "print(resp_time)"
   ]
  },
  {
   "cell_type": "code",
   "execution_count": 19,
   "metadata": {},
   "outputs": [],
   "source": [
    "RT = (int(resp_time) - int(stim_time)) / 10"
   ]
  },
  {
   "cell_type": "code",
   "execution_count": 20,
   "metadata": {},
   "outputs": [
    {
     "data": {
      "text/plain": [
       "655.1"
      ]
     },
     "execution_count": 20,
     "metadata": {},
     "output_type": "execute_result"
    }
   ],
   "source": [
    "RT"
   ]
  },
  {
   "cell_type": "code",
   "execution_count": 21,
   "metadata": {},
   "outputs": [
    {
     "data": {
      "text/plain": [
       "float"
      ]
     },
     "execution_count": 21,
     "metadata": {},
     "output_type": "execute_result"
    }
   ],
   "source": [
    "type(RT)"
   ]
  },
  {
   "cell_type": "code",
   "execution_count": 22,
   "metadata": {},
   "outputs": [
    {
     "data": {
      "text/plain": [
       "2.0"
      ]
     },
     "execution_count": 22,
     "metadata": {},
     "output_type": "execute_result"
    }
   ],
   "source": [
    "4/2"
   ]
  },
  {
   "cell_type": "code",
   "execution_count": null,
   "metadata": {},
   "outputs": [],
   "source": []
  },
  {
   "cell_type": "code",
   "execution_count": null,
   "metadata": {},
   "outputs": [],
   "source": []
  }
 ],
 "metadata": {
  "kernelspec": {
   "display_name": "Python 3",
   "language": "python",
   "name": "python3"
  },
  "language_info": {
   "codemirror_mode": {
    "name": "ipython",
    "version": 3
   },
   "file_extension": ".py",
   "mimetype": "text/x-python",
   "name": "python",
   "nbconvert_exporter": "python",
   "pygments_lexer": "ipython3",
   "version": "3.7.0"
  }
 },
 "nbformat": 4,
 "nbformat_minor": 2
}
