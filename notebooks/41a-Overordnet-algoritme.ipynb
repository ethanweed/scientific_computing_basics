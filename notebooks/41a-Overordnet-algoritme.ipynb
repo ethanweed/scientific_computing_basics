{
 "cells": [
  {
   "cell_type": "markdown",
   "metadata": {},
   "source": [
    "# Algoritme til løsning af opgaven"
   ]
  },
  {
   "cell_type": "markdown",
   "metadata": {},
   "source": [
    "Havelåge angiver kommentar-linie, spring dem over (header)"
   ]
  },
  {
   "cell_type": "markdown",
   "metadata": {},
   "source": [
    "Læs 1 linie ad gangen, spring over #"
   ]
  },
  {
   "cell_type": "markdown",
   "metadata": {},
   "source": [
    "Står der 'STIM' eller 'RESP' i 3. kolonne? Læs enten hhv. stimulus type eller respons."
   ]
  },
  {
   "cell_type": "markdown",
   "metadata": {},
   "source": [
    "Derefter trække værdierne i 1. kolonne fra hinanden."
   ]
  },
  {
   "cell_type": "markdown",
   "metadata": {},
   "source": [
    "Gemme RT-værdierne i to lister (freq og rare), og det samme for CORR/INCORR. "
   ]
  },
  {
   "cell_type": "markdown",
   "metadata": {},
   "source": [
    "Efter alle linier læst, beregne mean, median & Acc. Skrive resultaterne i en resultat-fil (1 linie ad gangen)."
   ]
  },
  {
   "cell_type": "markdown",
   "metadata": {},
   "source": [
    "Vi skal vide om 00NN er Patient eller Ctrl. Hvordan?"
   ]
  },
  {
   "cell_type": "code",
   "execution_count": null,
   "metadata": {},
   "outputs": [],
   "source": []
  }
 ],
 "metadata": {
  "kernelspec": {
   "display_name": "Python 3",
   "language": "python",
   "name": "python3"
  },
  "language_info": {
   "codemirror_mode": {
    "name": "ipython",
    "version": 3
   },
   "file_extension": ".py",
   "mimetype": "text/x-python",
   "name": "python",
   "nbconvert_exporter": "python",
   "pygments_lexer": "ipython3",
   "version": "3.6.6"
  }
 },
 "nbformat": 4,
 "nbformat_minor": 2
}
