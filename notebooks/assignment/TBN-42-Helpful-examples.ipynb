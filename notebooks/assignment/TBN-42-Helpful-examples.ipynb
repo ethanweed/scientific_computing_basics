{
 "cells": [
  {
   "cell_type": "markdown",
   "metadata": {},
   "source": [
    "# Helpful examples\n",
    "\n",
    "These should come in handy when completing the assignment."
   ]
  },
  {
   "cell_type": "markdown",
   "metadata": {},
   "source": [
    "## Test reading a `csv`-file\n",
    "\n",
    "* make a folder in the `notebooks`-directory called: `assignment`\n",
    "* copy the `csv`-file containing your family's birth dates into it"
   ]
  },
  {
   "cell_type": "code",
   "execution_count": 1,
   "metadata": {},
   "outputs": [
    {
     "data": {
      "text/plain": [
       "'/home/scb/scientific_computing_basics-fall2018/notebooks'"
      ]
     },
     "execution_count": 1,
     "metadata": {},
     "output_type": "execute_result"
    }
   ],
   "source": [
    "pwd"
   ]
  },
  {
   "cell_type": "code",
   "execution_count": null,
   "metadata": {},
   "outputs": [],
   "source": [
    "# assign the path to the csv-file to the variable 'path_to_csv'\n",
    "path_to_csv = 'assignment/birth.csv'"
   ]
  },
  {
   "cell_type": "code",
   "execution_count": null,
   "metadata": {},
   "outputs": [],
   "source": [
    "# open the csv-file for reading\n",
    "# fp is a \"file pointer\" to the data payload of the file (text)\n",
    "fp = open(path_to_csv, 'r') #r står for read filen #fp er filepoint, python har åbnet filem"
   ]
  },
  {
   "cell_type": "code",
   "execution_count": null,
   "metadata": {},
   "outputs": [],
   "source": [
    "# read the contents of the file into a new variable, \n",
    "file_cont = fp.read()\n",
    "\n",
    "# REMEMBER TO CLOSE the file (more critical when writing)\n",
    "fp.close()"
   ]
  },
  {
   "cell_type": "code",
   "execution_count": null,
   "metadata": {},
   "outputs": [],
   "source": [
    "# see what we got\n",
    "file_cont"
   ]
  },
  {
   "cell_type": "code",
   "execution_count": null,
   "metadata": {},
   "outputs": [],
   "source": [
    "type(file_cont)"
   ]
  },
  {
   "cell_type": "markdown",
   "metadata": {},
   "source": [
    "### Read file line-by-line"
   ]
  },
  {
   "cell_type": "code",
   "execution_count": null,
   "metadata": {},
   "outputs": [],
   "source": [
    "fp = open(path_to_csv, 'r')"
   ]
  },
  {
   "cell_type": "markdown",
   "metadata": {},
   "source": [
    "Exute the following cell repeatedly until you no longer get anything out of the file (Control-Enter will be useful)"
   ]
  },
  {
   "cell_type": "code",
   "execution_count": null,
   "metadata": {},
   "outputs": [],
   "source": [
    "line = fp.readline()\n",
    "print(line)"
   ]
  },
  {
   "cell_type": "code",
   "execution_count": null,
   "metadata": {},
   "outputs": [],
   "source": [
    "fp.close()"
   ]
  },
  {
   "cell_type": "markdown",
   "metadata": {},
   "source": [
    "### Read the file into a list of lines"
   ]
  },
  {
   "cell_type": "code",
   "execution_count": null,
   "metadata": {},
   "outputs": [],
   "source": [
    "fp = open(path_to_csv, 'r')\n",
    "all_lines = fp.readlines()\n",
    "fp.close()"
   ]
  },
  {
   "cell_type": "code",
   "execution_count": null,
   "metadata": {},
   "outputs": [],
   "source": [
    "type(all_lines)"
   ]
  },
  {
   "cell_type": "code",
   "execution_count": null,
   "metadata": {},
   "outputs": [],
   "source": [
    "all_lines  # show them"
   ]
  },
  {
   "cell_type": "code",
   "execution_count": null,
   "metadata": {},
   "outputs": [],
   "source": [
    "type(all_lines[1])  # what type is the 2nd element of the list?"
   ]
  },
  {
   "cell_type": "code",
   "execution_count": null,
   "metadata": {},
   "outputs": [],
   "source": [
    "all_lines[1]  # hi Dad!"
   ]
  },
  {
   "cell_type": "markdown",
   "metadata": {},
   "source": [
    "## Split a string at a character\n",
    "\n",
    "Let's make a list of all birth dates. For this, we want to\n",
    "\n",
    "* loop over all lines, _starting from the 2nd line_ (1st is the column names)\n",
    "* split each line on the comma (`,`)\n",
    "    * this creates a list of length 3 for name, date and place\n",
    "* print the 2nd element of the split-list"
   ]
  },
  {
   "cell_type": "code",
   "execution_count": null,
   "metadata": {},
   "outputs": [],
   "source": [
    "# test the split-method\n",
    "all_lines[1].split(',')"
   ]
  },
  {
   "cell_type": "code",
   "execution_count": null,
   "metadata": {},
   "outputs": [],
   "source": [
    "# loop from the 2nd element, to the end\n",
    "# use the 'slice'-notation [1:], meaning \"from index 1 to end\"\n",
    "for li in all_lines[1:]:\n",
    "    split_line = li.split(',')\n",
    "    print(split_line[1])"
   ]
  },
  {
   "cell_type": "markdown",
   "metadata": {},
   "source": [
    "## Strings can be _sliced_: they're _lists of characters_\n",
    "\n",
    "Repeat the above, but now only print the _third and fourth_ digits of the birth year!"
   ]
  },
  {
   "cell_type": "code",
   "execution_count": null,
   "metadata": {},
   "outputs": [],
   "source": [
    "for li in all_lines[1:]:\n",
    "    split_line = li.split(',')\n",
    "    print(split_line[1][2:])  # NB: [1][2:]"
   ]
  },
  {
   "cell_type": "markdown",
   "metadata": {},
   "source": [
    "Since `split_line[1]` is a string, `split_line[1][2:]` reads:\n",
    "\n",
    ">show the characters from the third element of the string `split_line[1]` to the end"
   ]
  },
  {
   "cell_type": "markdown",
   "metadata": {},
   "source": [
    "## Lists can be _appended_ to\n",
    "\n",
    "Starting with a list of values, add a new item (to the end) using the `.append`-method:"
   ]
  },
  {
   "cell_type": "code",
   "execution_count": null,
   "metadata": {},
   "outputs": [],
   "source": [
    "my_list = ['apple', 'orange']\n",
    "print('My list is', len(my_list), 'elements long.')\n",
    "\n",
    "my_list.append('banana')\n",
    "print('My list is', len(my_list), 'elements long.')\n",
    "print(my_list)"
   ]
  },
  {
   "cell_type": "markdown",
   "metadata": {},
   "source": [
    "Often it's useful to start with an _empty list_ and append to it:"
   ]
  },
  {
   "cell_type": "code",
   "execution_count": null,
   "metadata": {},
   "outputs": [],
   "source": [
    "new_list = []  # an empty list: nothing between the hard brackets\n",
    "print('Before append:', new_list)\n",
    "new_list.append(42)\n",
    "print('After append:', new_list)"
   ]
  },
  {
   "cell_type": "markdown",
   "metadata": {},
   "source": [
    "## Is `x` in a list? Use the `in`-operator\n",
    "\n",
    "In Python, we have a handy boolean operator for finding out whether an item exists in a list:"
   ]
  },
  {
   "cell_type": "code",
   "execution_count": null,
   "metadata": {},
   "outputs": [],
   "source": [
    "print(my_list)  # ['apple', 'orange', 'banana']\n",
    "print('orange' in my_list)\n",
    "print('kiwi' in my_list)\n",
    "print('Orange' in my_list)  # case-sensitive!"
   ]
  },
  {
   "cell_type": "code",
   "execution_count": 47,
   "metadata": {},
   "outputs": [],
   "source": [
    "#Homework\n",
    "#read csv\n",
    "\n",
    "def read_log_file(path_to_CSV, line_number, field_sep='\\t'):\n",
    "    \n",
    "    fp=open(path_to_CSV, \"r\")\n",
    "    all_lines = fp.readlines()\n",
    "    fp.close()\n",
    "\n",
    "    cur_line = all_lines[line_number]\n",
    "    split_line = cur_line.split(field_sep)\n",
    "    \n",
    "    return(split_line)"
   ]
  },
  {
   "cell_type": "code",
   "execution_count": 49,
   "metadata": {},
   "outputs": [
    {
     "data": {
      "text/plain": [
       "['0027_PSI', 'Control\\n']"
      ]
     },
     "execution_count": 49,
     "metadata": {},
     "output_type": "execute_result"
    }
   ],
   "source": [
    "read_log_file(\"logs/subj_codes.csv\", 7, field_sep=';')"
   ]
  },
  {
   "cell_type": "code",
   "execution_count": 50,
   "metadata": {},
   "outputs": [
    {
     "data": {
      "text/plain": [
       "['52139', '42', 'STIM=c\\n']"
      ]
     },
     "execution_count": 50,
     "metadata": {},
     "output_type": "execute_result"
    }
   ],
   "source": [
    "read_log_file(\"logs/0011_LTQ_2017-05-08.log\", 7)"
   ]
  },
  {
   "cell_type": "code",
   "execution_count": null,
   "metadata": {},
   "outputs": [],
   "source": []
  },
  {
   "cell_type": "code",
   "execution_count": 30,
   "metadata": {},
   "outputs": [],
   "source": [
    "path_to_CSV = \"logs/subj_codes.csv\"\n",
    "line_number = 7\n",
    "\n",
    "fp=open(path_to_CSV, \"r\")\n",
    "#file_cont = fp.read()\n",
    "all_lines = fp.readlines()\n",
    "fp.close()\n",
    "\n",
    "cur_line = all_lines[line_number]\n",
    "elements = cur_line.split(';')"
   ]
  },
  {
   "cell_type": "code",
   "execution_count": 31,
   "metadata": {},
   "outputs": [
    {
     "name": "stdout",
     "output_type": "stream",
     "text": [
      "0027_PSI;Control\n",
      "\n",
      "['0027_PSI;Control\\n']\n"
     ]
    }
   ],
   "source": [
    "print(cur_line)\n",
    "print(elements)"
   ]
  },
  {
   "cell_type": "code",
   "execution_count": 13,
   "metadata": {},
   "outputs": [
    {
     "data": {
      "text/plain": [
       "<_io.TextIOWrapper name='logs/subj_codes.csv' mode='r' encoding='UTF-8'>"
      ]
     },
     "execution_count": 13,
     "metadata": {},
     "output_type": "execute_result"
    }
   ],
   "source": [
    "fp"
   ]
  },
  {
   "cell_type": "code",
   "execution_count": 8,
   "metadata": {},
   "outputs": [
    {
     "name": "stdout",
     "output_type": "stream",
     "text": [
      "0011_LTQ;Control\n",
      "0013_GKH;Control\n",
      "0014_EGU;Control\n",
      "0015_TSP;Control\n",
      "0017_UQL;Control\n",
      "0020_WES;Control\n",
      "0025_JBA;Control\n",
      "0027_PSI;Control\n",
      "0030_PJY;Control\n",
      "0035_CRF;Control\n",
      "0040_BWV;Control\n",
      "0041_FPL;Control\n",
      "0043_BFO;Control\n",
      "0045_YIG;Control\n",
      "0049_GMC;Control\n",
      "0050_VMR;Control\n",
      "0055_NSP;Control\n",
      "0057_JSI;Control\n",
      "0058_CTC;Control\n",
      "0059_VIV;Control\n",
      "0010_KHI;Patient\n",
      "0012_CGS;Patient\n",
      "0018_BPW;Patient\n",
      "0019_EJM;Patient\n",
      "0022_FJD;Patient\n",
      "0024_AEL;Patient\n",
      "0026_XKU;Patient\n",
      "0028_UYO;Patient\n",
      "0029_QGU;Patient\n",
      "0031_VGK;Patient\n",
      "0033_QYE;Patient\n",
      "0034_OEH;Patient\n",
      "0037_JAR;Patient\n",
      "0038_NHL;Patient\n",
      "0039_WSW;Patient\n",
      "0044_AFZ;Patient\n",
      "0047_HJA;Patient\n",
      "0048_LCP;Patient\n",
      "0052_CAQ;Patient\n",
      "0053_BOP;Patient\n"
     ]
    }
   ],
   "source": [
    "cat logs/subj_codes.csv"
   ]
  },
  {
   "cell_type": "code",
   "execution_count": 4,
   "metadata": {},
   "outputs": [
    {
     "name": "stdout",
     "output_type": "stream",
     "text": [
      "/home/scb/scientific_computing_basics-fall2018/notebooks/logs\n"
     ]
    }
   ],
   "source": [
    "cd scientific_computing_basics-fall2018/notebooks/logs/"
   ]
  },
  {
   "cell_type": "markdown",
   "metadata": {},
   "source": []
  }
 ],
 "metadata": {
  "kernelspec": {
   "display_name": "Python 3",
   "language": "python",
   "name": "python3"
  },
  "language_info": {
   "codemirror_mode": {
    "name": "ipython",
    "version": 3
   },
   "file_extension": ".py",
   "mimetype": "text/x-python",
   "name": "python",
   "nbconvert_exporter": "python",
   "pygments_lexer": "ipython3",
   "version": "3.7.0"
  }
 },
 "nbformat": 4,
 "nbformat_minor": 2
}
