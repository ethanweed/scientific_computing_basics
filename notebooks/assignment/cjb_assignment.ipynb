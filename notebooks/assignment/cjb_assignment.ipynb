{
 "cells": [
  {
   "cell_type": "markdown",
   "metadata": {},
   "source": [
    "# FDDHS assignment solution\n",
    "\n",
    "Christopher Bailey"
   ]
  },
  {
   "cell_type": "code",
   "execution_count": 1,
   "metadata": {},
   "outputs": [],
   "source": [
    "import string"
   ]
  },
  {
   "cell_type": "code",
   "execution_count": 2,
   "metadata": {},
   "outputs": [],
   "source": [
    "def mean(values):\n",
    "    '''Return the mean of a list of numbers'''\n",
    "    return(sum(values)/len(values))\n",
    "\n",
    "def median(values):\n",
    "    '''Return the median of a list of numbers\n",
    "    NB: Should be corrected for the case of even number of values!\n",
    "    '''\n",
    "    return(sorted(values)[len(values) // 2])"
   ]
  },
  {
   "cell_type": "markdown",
   "metadata": {},
   "source": [
    "## Log file reader for en deltager"
   ]
  },
  {
   "cell_type": "code",
   "execution_count": 3,
   "metadata": {},
   "outputs": [],
   "source": [
    "def read_log_file(csv_file, field_sep='\\t'):\n",
    "    \n",
    "    fp = open(csv_file, 'r')\n",
    "    all_lines = fp.readlines()\n",
    "    fp.close()\n",
    "    \n",
    "    all_RT = []\n",
    "    all_resp = []\n",
    "    all_type = []\n",
    "\n",
    "    for line in all_lines:\n",
    "        if line[0] != '#':  # if line.startswith('#')\n",
    "            split_line = line.split(field_sep)\n",
    "            if split_line[2].startswith('STIM'):\n",
    "                #\n",
    "                stim_time = int(split_line[0]) / 10\n",
    "                if split_line[2][5] in string.ascii_lowercase:\n",
    "                    stim_type = 'freq'\n",
    "                else:\n",
    "                    stim_type = 'rare'\n",
    "            else:\n",
    "                #\n",
    "                resp_time = int(split_line[0]) / 10\n",
    "                if ((split_line[2][5] == '1' and stim_type == 'freq') or\n",
    "                    (split_line[2][5] == '2' and stim_type == 'rare')):\n",
    "                    \n",
    "                    resp_type = True  # eller 1\n",
    "                else:\n",
    "                    resp_type = False  # eller 0                    \n",
    "\n",
    "                RT = resp_time - stim_time\n",
    "                all_RT.append(RT)\n",
    "                all_resp.append(resp_type)\n",
    "                all_type.append(stim_type)\n",
    "\n",
    "    return(all_RT, all_resp, all_type)"
   ]
  },
  {
   "cell_type": "code",
   "execution_count": 4,
   "metadata": {},
   "outputs": [],
   "source": [
    "RTs, resps, types = read_log_file('logs/0012_CGS_2016-09-30.log')\n",
    "\n",
    "freq_RT = [rt for rt, tp in zip(RTs, types) if tp == 'freq']\n",
    "rare_RT = [rt for rt, tp in zip(RTs, types) if tp == 'rare']\n",
    "\n",
    "freq_resp = [rt for rt, tp in zip(resps, types) if tp == 'freq']\n",
    "rare_resp = [rt for rt, tp in zip(resps, types) if tp == 'rare']"
   ]
  },
  {
   "cell_type": "markdown",
   "metadata": {},
   "source": [
    "## Find alle logfilerne og læs gruppemedlemskab"
   ]
  },
  {
   "cell_type": "code",
   "execution_count": 12,
   "metadata": {},
   "outputs": [],
   "source": [
    "from scb_helpers import find, grep"
   ]
  },
  {
   "cell_type": "code",
   "execution_count": 22,
   "metadata": {},
   "outputs": [],
   "source": [
    "all_logs = find('logs', '*.log')"
   ]
  },
  {
   "cell_type": "code",
   "execution_count": 23,
   "metadata": {},
   "outputs": [
    {
     "data": {
      "text/plain": [
       "'logs/0026_XKU_2016-10-21.log'"
      ]
     },
     "execution_count": 23,
     "metadata": {},
     "output_type": "execute_result"
    }
   ],
   "source": [
    "all_logs[0]"
   ]
  },
  {
   "cell_type": "code",
   "execution_count": 21,
   "metadata": {},
   "outputs": [
    {
     "data": {
      "text/plain": [
       "'0025_JBA;Control'"
      ]
     },
     "execution_count": 21,
     "metadata": {},
     "output_type": "execute_result"
    }
   ],
   "source": [
    "grep('logs/subj_codes.csv', '0025')"
   ]
  },
  {
   "cell_type": "markdown",
   "metadata": {},
   "source": [
    "## Loop over logfiler"
   ]
  },
  {
   "cell_type": "code",
   "execution_count": 45,
   "metadata": {},
   "outputs": [],
   "source": [
    "fp = open('results.csv', 'w')\n",
    "\n",
    "fp.write('SubjectID,Group,Cond,meanRT,medianRT,Accuracy\\n')\n",
    "\n",
    "for log in all_logs:\n",
    "    RTs, resps, types = read_log_file(log)\n",
    "\n",
    "    freq_RT = [rt for rt, tp in zip(RTs, types) if tp == 'freq']\n",
    "    rare_RT = [rt for rt, tp in zip(RTs, types) if tp == 'rare']\n",
    "\n",
    "    freq_resp = [rt for rt, tp in zip(resps, types) if tp == 'freq']\n",
    "    rare_resp = [rt for rt, tp in zip(resps, types) if tp == 'rare']\n",
    "    \n",
    "    subj_name = log[5:13]\n",
    "    subj_line = grep('logs/subj_codes.csv', subj_name)\n",
    "    subj_group = subj_line.split(';')[1]\n",
    "    \n",
    "    output = ','.join([subj_name, subj_group, 'Freq',\n",
    "              str(mean(freq_RT)), str(median(freq_RT)),\n",
    "                       str(100*mean(freq_resp))]) + '\\n'\n",
    "    fp.write(output)\n",
    "    \n",
    "    output = ','.join([subj_name, subj_group, 'Rare',\n",
    "              str(mean(rare_RT)), str(median(rare_RT)),\n",
    "                       str(100*mean(rare_resp))]) + '\\n'\n",
    "    fp.write(output)\n",
    "    \n",
    "#     fp.write(subj_name, subj_group, 'Freq', mean(freq_RT),\n",
    "#           median(freq_RT), 100 * mean(freq_resp))\n",
    "    \n",
    "fp.close()"
   ]
  },
  {
   "cell_type": "code",
   "execution_count": 29,
   "metadata": {},
   "outputs": [
    {
     "data": {
      "text/plain": [
       "'0012_CGS'"
      ]
     },
     "execution_count": 29,
     "metadata": {},
     "output_type": "execute_result"
    }
   ],
   "source": [
    "log[5:13]"
   ]
  },
  {
   "cell_type": "code",
   "execution_count": 44,
   "metadata": {},
   "outputs": [
    {
     "data": {
      "text/plain": [
       "'0,0,1,2,_,C,G,S'"
      ]
     },
     "execution_count": 44,
     "metadata": {},
     "output_type": "execute_result"
    }
   ],
   "source": [
    "','.join(log[5:13])"
   ]
  },
  {
   "cell_type": "code",
   "execution_count": 46,
   "metadata": {},
   "outputs": [
    {
     "data": {
      "text/plain": [
       "\u001b[0;31mInit signature:\u001b[0m \u001b[0mstr\u001b[0m\u001b[0;34m(\u001b[0m\u001b[0mself\u001b[0m\u001b[0;34m,\u001b[0m \u001b[0;34m/\u001b[0m\u001b[0;34m,\u001b[0m \u001b[0;34m*\u001b[0m\u001b[0margs\u001b[0m\u001b[0;34m,\u001b[0m \u001b[0;34m**\u001b[0m\u001b[0mkwargs\u001b[0m\u001b[0;34m)\u001b[0m\u001b[0;34m\u001b[0m\u001b[0m\n",
       "\u001b[0;31mDocstring:\u001b[0m     \n",
       "str(object='') -> str\n",
       "str(bytes_or_buffer[, encoding[, errors]]) -> str\n",
       "\n",
       "Create a new string object from the given object. If encoding or\n",
       "errors is specified, then the object must expose a data buffer\n",
       "that will be decoded using the given encoding and error handler.\n",
       "Otherwise, returns the result of object.__str__() (if defined)\n",
       "or repr(object).\n",
       "encoding defaults to sys.getdefaultencoding().\n",
       "errors defaults to 'strict'.\n",
       "\u001b[0;31mType:\u001b[0m           type\n"
      ]
     },
     "metadata": {},
     "output_type": "display_data"
    }
   ],
   "source": [
    "str?"
   ]
  },
  {
   "cell_type": "markdown",
   "metadata": {},
   "source": [
    "## Summary stats with pandas"
   ]
  },
  {
   "cell_type": "code",
   "execution_count": 47,
   "metadata": {},
   "outputs": [],
   "source": [
    "import pandas as pd"
   ]
  },
  {
   "cell_type": "code",
   "execution_count": 48,
   "metadata": {},
   "outputs": [],
   "source": [
    "# yes, this is how easy reading a csv-file _really_ can be...\n",
    "df = pd.read_csv('assignment/results.csv', delimiter=',')"
   ]
  },
  {
   "cell_type": "code",
   "execution_count": 49,
   "metadata": {},
   "outputs": [
    {
     "data": {
      "text/html": [
       "<div>\n",
       "<style scoped>\n",
       "    .dataframe tbody tr th:only-of-type {\n",
       "        vertical-align: middle;\n",
       "    }\n",
       "\n",
       "    .dataframe tbody tr th {\n",
       "        vertical-align: top;\n",
       "    }\n",
       "\n",
       "    .dataframe thead th {\n",
       "        text-align: right;\n",
       "    }\n",
       "</style>\n",
       "<table border=\"1\" class=\"dataframe\">\n",
       "  <thead>\n",
       "    <tr style=\"text-align: right;\">\n",
       "      <th></th>\n",
       "      <th>SubjectID</th>\n",
       "      <th>Group</th>\n",
       "      <th>Cond</th>\n",
       "      <th>meanRT</th>\n",
       "      <th>medianRT</th>\n",
       "      <th>Accuracy</th>\n",
       "    </tr>\n",
       "  </thead>\n",
       "  <tbody>\n",
       "    <tr>\n",
       "      <th>0</th>\n",
       "      <td>0026_XKU</td>\n",
       "      <td>Patient</td>\n",
       "      <td>Freq</td>\n",
       "      <td>573.747363</td>\n",
       "      <td>536.4</td>\n",
       "      <td>95.214844</td>\n",
       "    </tr>\n",
       "    <tr>\n",
       "      <th>1</th>\n",
       "      <td>0026_XKU</td>\n",
       "      <td>Patient</td>\n",
       "      <td>Rare</td>\n",
       "      <td>688.119922</td>\n",
       "      <td>639.4</td>\n",
       "      <td>85.156250</td>\n",
       "    </tr>\n",
       "    <tr>\n",
       "      <th>2</th>\n",
       "      <td>0035_CRF</td>\n",
       "      <td>Control</td>\n",
       "      <td>Freq</td>\n",
       "      <td>495.657422</td>\n",
       "      <td>461.9</td>\n",
       "      <td>96.777344</td>\n",
       "    </tr>\n",
       "    <tr>\n",
       "      <th>3</th>\n",
       "      <td>0035_CRF</td>\n",
       "      <td>Control</td>\n",
       "      <td>Rare</td>\n",
       "      <td>577.473828</td>\n",
       "      <td>548.3</td>\n",
       "      <td>88.671875</td>\n",
       "    </tr>\n",
       "    <tr>\n",
       "      <th>4</th>\n",
       "      <td>0010_KHI</td>\n",
       "      <td>Patient</td>\n",
       "      <td>Freq</td>\n",
       "      <td>573.142871</td>\n",
       "      <td>530.7</td>\n",
       "      <td>95.410156</td>\n",
       "    </tr>\n",
       "  </tbody>\n",
       "</table>\n",
       "</div>"
      ],
      "text/plain": [
       "  SubjectID    Group  Cond      meanRT  medianRT   Accuracy\n",
       "0  0026_XKU  Patient  Freq  573.747363     536.4  95.214844\n",
       "1  0026_XKU  Patient  Rare  688.119922     639.4  85.156250\n",
       "2  0035_CRF  Control  Freq  495.657422     461.9  96.777344\n",
       "3  0035_CRF  Control  Rare  577.473828     548.3  88.671875\n",
       "4  0010_KHI  Patient  Freq  573.142871     530.7  95.410156"
      ]
     },
     "execution_count": 49,
     "metadata": {},
     "output_type": "execute_result"
    }
   ],
   "source": [
    "df.head()"
   ]
  },
  {
   "cell_type": "code",
   "execution_count": 50,
   "metadata": {},
   "outputs": [
    {
     "data": {
      "text/html": [
       "<div>\n",
       "<style scoped>\n",
       "    .dataframe tbody tr th:only-of-type {\n",
       "        vertical-align: middle;\n",
       "    }\n",
       "\n",
       "    .dataframe tbody tr th {\n",
       "        vertical-align: top;\n",
       "    }\n",
       "\n",
       "    .dataframe thead th {\n",
       "        text-align: right;\n",
       "    }\n",
       "</style>\n",
       "<table border=\"1\" class=\"dataframe\">\n",
       "  <thead>\n",
       "    <tr style=\"text-align: right;\">\n",
       "      <th></th>\n",
       "      <th></th>\n",
       "      <th>meanRT</th>\n",
       "      <th>medianRT</th>\n",
       "      <th>Accuracy</th>\n",
       "    </tr>\n",
       "    <tr>\n",
       "      <th>Group</th>\n",
       "      <th>Cond</th>\n",
       "      <th></th>\n",
       "      <th></th>\n",
       "      <th></th>\n",
       "    </tr>\n",
       "  </thead>\n",
       "  <tbody>\n",
       "    <tr>\n",
       "      <th rowspan=\"2\" valign=\"top\">Control</th>\n",
       "      <th>Freq</th>\n",
       "      <td>500.506172</td>\n",
       "      <td>467.180</td>\n",
       "      <td>96.191406</td>\n",
       "    </tr>\n",
       "    <tr>\n",
       "      <th>Rare</th>\n",
       "      <td>579.040293</td>\n",
       "      <td>547.890</td>\n",
       "      <td>88.886719</td>\n",
       "    </tr>\n",
       "    <tr>\n",
       "      <th rowspan=\"2\" valign=\"top\">Patient</th>\n",
       "      <th>Freq</th>\n",
       "      <td>579.202925</td>\n",
       "      <td>540.305</td>\n",
       "      <td>94.790039</td>\n",
       "    </tr>\n",
       "    <tr>\n",
       "      <th>Rare</th>\n",
       "      <td>676.630723</td>\n",
       "      <td>638.320</td>\n",
       "      <td>84.707031</td>\n",
       "    </tr>\n",
       "  </tbody>\n",
       "</table>\n",
       "</div>"
      ],
      "text/plain": [
       "                  meanRT  medianRT   Accuracy\n",
       "Group   Cond                                 \n",
       "Control Freq  500.506172   467.180  96.191406\n",
       "        Rare  579.040293   547.890  88.886719\n",
       "Patient Freq  579.202925   540.305  94.790039\n",
       "        Rare  676.630723   638.320  84.707031"
      ]
     },
     "execution_count": 50,
     "metadata": {},
     "output_type": "execute_result"
    }
   ],
   "source": [
    "# group the numerical values by Group and Condition,\n",
    "# and display the mean of each\n",
    "df.groupby(by=['Group', 'Cond']).mean()"
   ]
  },
  {
   "cell_type": "code",
   "execution_count": null,
   "metadata": {},
   "outputs": [],
   "source": []
  }
 ],
 "metadata": {
  "kernelspec": {
   "display_name": "Python 3",
   "language": "python",
   "name": "python3"
  },
  "language_info": {
   "codemirror_mode": {
    "name": "ipython",
    "version": 3
   },
   "file_extension": ".py",
   "mimetype": "text/x-python",
   "name": "python",
   "nbconvert_exporter": "python",
   "pygments_lexer": "ipython3",
   "version": "3.7.0"
  }
 },
 "nbformat": 4,
 "nbformat_minor": 2
}
